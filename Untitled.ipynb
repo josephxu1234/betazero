{
 "cells": [
  {
   "cell_type": "code",
   "execution_count": 57,
   "id": "8eb264e6-e62c-4e8b-ace1-32f841010994",
   "metadata": {},
   "outputs": [],
   "source": [
    "from sklearn.linear_model import LinearRegression\n",
    "from sklearn.model_selection import train_test_split\n",
    "from sklearn.metrics import mean_absolute_error\n",
    "import pandas as pd\n",
    "from sklearn.linear_model import HuberRegressor"
   ]
  },
  {
   "cell_type": "code",
   "execution_count": null,
   "id": "26bbb46b-44ea-4c65-af29-28d9bb3f9df8",
   "metadata": {},
   "outputs": [],
   "source": []
  },
  {
   "cell_type": "code",
   "execution_count": 55,
   "id": "da4aec75-d950-4998-8b1c-b620925fc861",
   "metadata": {},
   "outputs": [],
   "source": [
    "def read_file(G, T):\n",
    "    # agi_G_T.txt,\n",
    "    file_name = 'agi_data/agi_' + str(G) + '_' + str(T) + '.txt'\n",
    "    print(file_name)\n",
    "    rows = []\n",
    "    with open(file_name) as f:\n",
    "        N, D, delta, M = [float(w) for w in f.readline().rstrip().split()]\n",
    "        N = int(N)\n",
    "        D = int(D)\n",
    "        M = int(M)\n",
    "        print(N, D, delta, M)\n",
    "        \n",
    "        for i in range(N):\n",
    "            new_row = [float(w) for w in f.readline().rstrip().split()]\n",
    "            rows.append(new_row)\n",
    "        labels = [float(w) for w in f.readline().rstrip().split()]\n",
    "    return pd.DataFrame(rows), pd.Series(labels)"
   ]
  },
  {
   "cell_type": "code",
   "execution_count": 10,
   "id": "7665eb33-1cd0-4706-ba1b-4dd4f6b69378",
   "metadata": {},
   "outputs": [
    {
     "name": "stdout",
     "output_type": "stream",
     "text": [
      "agi_data/agi_0_0.txt\n",
      "100 2 0 0\n"
     ]
    }
   ],
   "source": [
    "X_0_0, y_0_0 = read_file(0, 0)"
   ]
  },
  {
   "cell_type": "code",
   "execution_count": 23,
   "id": "0c01816c-0e7f-47e0-a4ad-2fa5850dcda3",
   "metadata": {},
   "outputs": [],
   "source": [
    "X = pd.DataFrame()\n",
    "y = pd.Series()"
   ]
  },
  {
   "cell_type": "code",
   "execution_count": 44,
   "id": "e3c218d2-b740-4c28-b4ef-01a51c647334",
   "metadata": {},
   "outputs": [],
   "source": [
    "def get_beta(G, T):\n",
    "    X, y = read_file(G, T)\n",
    "    X_train, X_test, y_train, y_test = train_test_split(X, y, test_size = 0.25, random_state=42)\n",
    "    lr = LinearRegression().fit(X_train, y_train)\n",
    "    yp_train = lr.predict(X_train)\n",
    "    yp_test = lr.predict(X_test)\n",
    "    y_total = lr.predict(X)\n",
    "    print(mean_absolute_error(yp_train, y_train))\n",
    "    print(mean_absolute_error(yp_test, y_test))\n",
    "    print(mean_absolute_error(y_total, y))\n",
    "\n",
    "    return lr"
   ]
  },
  {
   "cell_type": "code",
   "execution_count": 58,
   "id": "123848c2-c575-4743-a00c-57acd692c611",
   "metadata": {},
   "outputs": [],
   "source": [
    "def get_beta1(G, T):\n",
    "    X, y = read_file(G, T)\n",
    "    X_train, X_test, y_train, y_test = train_test_split(X, y, test_size = 0.25, random_state=42)\n",
    "    lr = HuberRegressor().fit(X_train, y_train)\n",
    "    yp_train = lr.predict(X_train)\n",
    "    yp_test = lr.predict(X_test)\n",
    "    y_total = lr.predict(X)\n",
    "    print(mean_absolute_error(yp_train, y_train))\n",
    "    print(mean_absolute_error(yp_test, y_test))\n",
    "    print(mean_absolute_error(y_total, y))\n",
    "\n",
    "    return lr"
   ]
  },
  {
   "cell_type": "code",
   "execution_count": 28,
   "id": "e8b71535-a662-443b-8134-cdbff2f2c6d0",
   "metadata": {},
   "outputs": [],
   "source": [
    "X_train_0_0, X_test_0_0, y_train_0_0, y_test_0_0 = train_test_split(X_0_0, y_0_0, test_size=0.25, random_state=42)"
   ]
  },
  {
   "cell_type": "code",
   "execution_count": 12,
   "id": "8ad2f140-e1e9-4f29-a4b2-5a3997859449",
   "metadata": {},
   "outputs": [],
   "source": [
    "lr_0_0 = LinearRegression().fit(X_train_0_0, y_train_0_0)"
   ]
  },
  {
   "cell_type": "code",
   "execution_count": 15,
   "id": "a8f8c8fd-9d7c-47c2-936a-ba6557a71094",
   "metadata": {},
   "outputs": [],
   "source": [
    "yp_train_0_0 = lr_0_0.predict(X_train_0_0)\n",
    "yp_test_0_0 = lr_0_0.predict(X_test_0_0)"
   ]
  },
  {
   "cell_type": "code",
   "execution_count": 16,
   "id": "76d81fea-6ac9-44e8-9122-d523138d0bac",
   "metadata": {},
   "outputs": [
    {
     "data": {
      "text/plain": [
       "0.07092032024615659"
      ]
     },
     "execution_count": 16,
     "metadata": {},
     "output_type": "execute_result"
    }
   ],
   "source": [
    "mean_absolute_error(yp_train_0_0, y_train_0_0)"
   ]
  },
  {
   "cell_type": "code",
   "execution_count": null,
   "id": "d9c55006-000f-4156-b244-8d2bc3fcc029",
   "metadata": {},
   "outputs": [],
   "source": [
    "mean_absolute_error(yp_train_0_0, y_train_0_0)"
   ]
  },
  {
   "cell_type": "code",
   "execution_count": 29,
   "id": "2bbeea2c-f5d9-4f8f-84d5-7e1e4f3a7674",
   "metadata": {},
   "outputs": [],
   "source": [
    "X_train, X_test, y_train, y_test = train_test_split(X, y, test_size = 0.25, random_state=42)"
   ]
  },
  {
   "cell_type": "code",
   "execution_count": 35,
   "id": "a38367ef-f846-4b75-8f9a-ddc1bf854ab4",
   "metadata": {},
   "outputs": [],
   "source": [
    "lr = LinearRegression().fit(X_train, y_train)"
   ]
  },
  {
   "cell_type": "code",
   "execution_count": 37,
   "id": "d71f4bb6-1275-4b65-b9da-9546f78823aa",
   "metadata": {},
   "outputs": [],
   "source": [
    "yp_train = lr.predict(X_train)\n",
    "yp_test = lr.predict(X_test)"
   ]
  },
  {
   "cell_type": "code",
   "execution_count": 39,
   "id": "e74a6e37-9359-4949-b294-fee55661f34f",
   "metadata": {},
   "outputs": [
    {
     "name": "stdout",
     "output_type": "stream",
     "text": [
      "40.30036574645414\n",
      "38.703130504567206\n"
     ]
    }
   ],
   "source": [
    "print(mean_absolute_error(yp_train, y_train))\n",
    "print(mean_absolute_error(yp_test, y_test))"
   ]
  },
  {
   "cell_type": "code",
   "execution_count": 45,
   "id": "bfdbd555-f4cc-41f7-9bfd-cb04627de1b7",
   "metadata": {},
   "outputs": [
    {
     "name": "stdout",
     "output_type": "stream",
     "text": [
      "agi_data/agi_0_0.txt\n",
      "100 2 0 0\n",
      "0.07092032024615659\n",
      "0.0983978519268587\n",
      "0.07778970316633212\n"
     ]
    }
   ],
   "source": [
    "lr = get_beta(0, 0)"
   ]
  },
  {
   "cell_type": "code",
   "execution_count": 46,
   "id": "f94a8786-c699-4445-adf3-eca798a4c0f8",
   "metadata": {},
   "outputs": [
    {
     "name": "stdout",
     "output_type": "stream",
     "text": [
      "agi_data/agi_0_0.txt\n",
      "100 2 0 0\n",
      "0.07092032024615659\n",
      "0.0983978519268587\n",
      "0.07778970316633212\n",
      "agi_data/agi_0_1.txt\n",
      "100 2 0 0\n",
      "0.07907789610486256\n",
      "0.07547538438889911\n",
      "0.07817726817587171\n",
      "agi_data/agi_0_2.txt\n",
      "100 2 0 0\n",
      "0.07697913723830486\n",
      "0.08738752214772022\n",
      "0.07958123346565871\n",
      "agi_data/agi_0_3.txt\n",
      "100 2 0 0\n",
      "0.07606145838818087\n",
      "0.07794451974566523\n",
      "0.07653222372755195\n",
      "agi_data/agi_0_4.txt\n",
      "100 2 0 0\n",
      "0.07163663515306187\n",
      "0.0825424164681252\n",
      "0.0743630804818277\n",
      "agi_data/agi_0_5.txt\n",
      "100 2 0 0\n",
      "0.07859117071582214\n",
      "0.0863360605029403\n",
      "0.08052739316260167\n",
      "agi_data/agi_0_6.txt\n",
      "100 2 0 0\n",
      "0.07313758071766512\n",
      "0.0826226747927745\n",
      "0.07550885423644246\n",
      "agi_data/agi_0_7.txt\n",
      "100 2 0 0\n",
      "0.0714567303201727\n",
      "0.08553287117283853\n",
      "0.07497576553333916\n",
      "agi_data/agi_0_8.txt\n",
      "100 2 0 0\n",
      "0.07647843879793885\n",
      "0.0820210502558405\n",
      "0.07786409166241424\n",
      "agi_data/agi_0_9.txt\n",
      "100 2 0 0\n",
      "0.06455819014790992\n",
      "0.09036671404009393\n",
      "0.07101032112095593\n"
     ]
    }
   ],
   "source": [
    "lr_arr = []\n",
    "for i in range(10):\n",
    "    lr = get_beta(0, i)\n",
    "    lr_arr.append(lr)"
   ]
  },
  {
   "cell_type": "code",
   "execution_count": 49,
   "id": "2bf1365d-cd2c-4816-a09b-78e3df8a4052",
   "metadata": {},
   "outputs": [
    {
     "name": "stdout",
     "output_type": "stream",
     "text": [
      "[1.55238513 3.47230979]\n",
      "1.5523851326861617 3.4723097924005164\n",
      "[ 6.38974777 -7.57888679]\n",
      "6.389747766960719 -7.578886786704961\n",
      "[ 5.08148138 -7.99809168]\n",
      "5.08148137697925 -7.998091684824199\n",
      "[-3.72535148  8.70815064]\n",
      "-3.725351475296821 8.708150635113235\n",
      "[-3.61761183  7.57222911]\n",
      "-3.6176118331408462 7.572229106974439\n",
      "[6.75201108 7.15769889]\n",
      "6.752011077584534 7.157698885462218\n",
      "[-5.84501577  0.37447836]\n",
      "-5.845015774455601 0.3744783641262567\n",
      "[-7.64505081  0.85544383]\n",
      "-7.645050808910054 0.8554438260179233\n",
      "[6.75342584 3.01560732]\n",
      "6.75342584466862 3.015607322646112\n",
      "[-4.62837461 -8.38658362]\n",
      "-4.628374613351334 -8.386583615135404\n"
     ]
    }
   ],
   "source": [
    "for lr in lr_arr:\n",
    "    print (lr.coef_)\n",
    "    print(*lr.coef_, sep=' ')\n",
    "    file_name = "
   ]
  },
  {
   "cell_type": "code",
   "execution_count": 52,
   "id": "55f6f39d-b2ea-4ead-98db-592da32673b0",
   "metadata": {},
   "outputs": [],
   "source": [
    "for T in range(10):\n",
    "    file_name = '38064/38064_' + str(0) + '_' + str(T) + '.txt'\n",
    "    with open(file_name, 'w') as f:\n",
    "        str_coef = [str(w) for w in lr_arr[T].coef_]\n",
    "        f.write(' '.join(str_coef))"
   ]
  },
  {
   "cell_type": "markdown",
   "id": "d9ed0418-0b1f-4074-ae7f-b3b2712884c5",
   "metadata": {},
   "source": [
    "# try get beta for group 1"
   ]
  },
  {
   "cell_type": "code",
   "execution_count": 59,
   "id": "72bcd62b-0be9-4e2f-a3a6-757865de5ba7",
   "metadata": {},
   "outputs": [
    {
     "name": "stdout",
     "output_type": "stream",
     "text": [
      "agi_data/agi_1_0.txt\n",
      "100 10 0.1 2000\n",
      "115.30280985712038\n",
      "4.628692675773805\n",
      "87.63428056178374\n",
      "agi_data/agi_1_1.txt\n",
      "100 10 0.1 2000\n",
      "55.33137936285903\n",
      "151.67606118182323\n",
      "79.41754981760009\n",
      "agi_data/agi_1_2.txt\n",
      "100 10 0.1 2000\n",
      "115.36743141594958\n",
      "0.07717358147397377\n",
      "86.54486695733068\n",
      "agi_data/agi_1_3.txt\n",
      "100 10 0.1 2000\n",
      "132.30271202387385\n",
      "192.92073258123256\n",
      "147.45721716321353\n",
      "agi_data/agi_1_4.txt\n",
      "100 10 0.1 2000\n",
      "138.91253376946216\n",
      "71.56363361667582\n",
      "122.07530873126558\n",
      "agi_data/agi_1_5.txt\n",
      "100 10 0.1 2000\n",
      "52.78504385507357\n",
      "64.9194231415117\n",
      "55.8186386766831\n",
      "agi_data/agi_1_6.txt\n",
      "100 10 0.1 2000\n",
      "170.6050924262182\n",
      "110.07369593227686\n",
      "155.47224330273286\n",
      "agi_data/agi_1_7.txt\n",
      "100 10 0.1 2000\n",
      "48.12286057737129\n",
      "81.47154543882647\n",
      "56.46003179273508\n",
      "agi_data/agi_1_8.txt\n",
      "100 10 0.1 2000\n",
      "160.4517679879606\n",
      "153.32288741735476\n",
      "158.66954784530913\n",
      "agi_data/agi_1_9.txt\n",
      "100 10 0.1 2000\n",
      "45.82849557030869\n",
      "109.56428351330884\n",
      "61.76244255605872\n"
     ]
    }
   ],
   "source": [
    "lr_arr1 = []\n",
    "for T in range(10):\n",
    "    lr = get_beta1(1, T)\n",
    "    lr_arr1.append(lr)"
   ]
  }
 ],
 "metadata": {
  "kernelspec": {
   "display_name": "Python 3 (ipykernel)",
   "language": "python",
   "name": "python3"
  },
  "language_info": {
   "codemirror_mode": {
    "name": "ipython",
    "version": 3
   },
   "file_extension": ".py",
   "mimetype": "text/x-python",
   "name": "python",
   "nbconvert_exporter": "python",
   "pygments_lexer": "ipython3",
   "version": "3.10.9"
  }
 },
 "nbformat": 4,
 "nbformat_minor": 5
}
